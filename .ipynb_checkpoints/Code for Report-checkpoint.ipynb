{
 "cells": [
  {
   "cell_type": "markdown",
   "id": "545d5af1",
   "metadata": {},
   "source": [
    "test\n"
   ]
  },
  {
   "cell_type": "code",
   "execution_count": 1,
   "id": "436b4aeb",
   "metadata": {},
   "outputs": [],
   "source": [
    "import pandas as pd\n",
    "import sklearn\n",
    "import seaborn as sns"
   ]
  },
  {
   "cell_type": "code",
   "execution_count": 27,
   "id": "e20daac6",
   "metadata": {},
   "outputs": [],
   "source": [
    "df=pd.read_csv('fintech_loan_simulation_data.csv')"
   ]
  },
  {
   "cell_type": "code",
   "execution_count": 26,
   "id": "9ce8a2fb",
   "metadata": {},
   "outputs": [
    {
     "data": {
      "text/html": [
       "<div>\n",
       "<style scoped>\n",
       "    .dataframe tbody tr th:only-of-type {\n",
       "        vertical-align: middle;\n",
       "    }\n",
       "\n",
       "    .dataframe tbody tr th {\n",
       "        vertical-align: top;\n",
       "    }\n",
       "\n",
       "    .dataframe thead th {\n",
       "        text-align: right;\n",
       "    }\n",
       "</style>\n",
       "<table border=\"1\" class=\"dataframe\">\n",
       "  <thead>\n",
       "    <tr style=\"text-align: right;\">\n",
       "      <th></th>\n",
       "      <th>Applicant_ID</th>\n",
       "      <th>Month</th>\n",
       "      <th>Annual_Income</th>\n",
       "      <th>Employment_Status</th>\n",
       "      <th>House_Status</th>\n",
       "      <th>Employment_History_Years</th>\n",
       "      <th>Online_Spending_Behavior_Score</th>\n",
       "      <th>Utility_Bill_Payment_Score</th>\n",
       "      <th>Number_of_Open_Accounts</th>\n",
       "      <th>Monthly_Debt</th>\n",
       "      <th>...</th>\n",
       "      <th>Home_Utility_Expense</th>\n",
       "      <th>Shopping_Expense</th>\n",
       "      <th>Environmental_Spending</th>\n",
       "      <th>Loan_Amount_Requested</th>\n",
       "      <th>Loan_Term</th>\n",
       "      <th>Purpose</th>\n",
       "      <th>Approval_Status</th>\n",
       "      <th>Defaulted</th>\n",
       "      <th>Number_of_Delinquencies</th>\n",
       "      <th>Days_Late</th>\n",
       "    </tr>\n",
       "  </thead>\n",
       "  <tbody>\n",
       "    <tr>\n",
       "      <th>0</th>\n",
       "      <td>1</td>\n",
       "      <td>1</td>\n",
       "      <td>68000.0</td>\n",
       "      <td>part time</td>\n",
       "      <td>Own</td>\n",
       "      <td>8</td>\n",
       "      <td>59</td>\n",
       "      <td>72</td>\n",
       "      <td>15</td>\n",
       "      <td>1694.650794</td>\n",
       "      <td>...</td>\n",
       "      <td>334.534946</td>\n",
       "      <td>1675.623182</td>\n",
       "      <td>377.316447</td>\n",
       "      <td>28787.81897</td>\n",
       "      <td>21</td>\n",
       "      <td>Major Purchase</td>\n",
       "      <td>Approved</td>\n",
       "      <td>0</td>\n",
       "      <td>1</td>\n",
       "      <td>0</td>\n",
       "    </tr>\n",
       "    <tr>\n",
       "      <th>1</th>\n",
       "      <td>1</td>\n",
       "      <td>2</td>\n",
       "      <td>68000.0</td>\n",
       "      <td>part time</td>\n",
       "      <td>Own</td>\n",
       "      <td>8</td>\n",
       "      <td>59</td>\n",
       "      <td>72</td>\n",
       "      <td>15</td>\n",
       "      <td>1694.650794</td>\n",
       "      <td>...</td>\n",
       "      <td>600.493615</td>\n",
       "      <td>1937.372496</td>\n",
       "      <td>441.151954</td>\n",
       "      <td>28787.81897</td>\n",
       "      <td>10</td>\n",
       "      <td>Home Improvement</td>\n",
       "      <td>Approved</td>\n",
       "      <td>0</td>\n",
       "      <td>3</td>\n",
       "      <td>0</td>\n",
       "    </tr>\n",
       "    <tr>\n",
       "      <th>2</th>\n",
       "      <td>1</td>\n",
       "      <td>3</td>\n",
       "      <td>68000.0</td>\n",
       "      <td>part time</td>\n",
       "      <td>Own</td>\n",
       "      <td>8</td>\n",
       "      <td>59</td>\n",
       "      <td>72</td>\n",
       "      <td>15</td>\n",
       "      <td>1694.650794</td>\n",
       "      <td>...</td>\n",
       "      <td>404.397072</td>\n",
       "      <td>698.006536</td>\n",
       "      <td>62.320014</td>\n",
       "      <td>28787.81897</td>\n",
       "      <td>16</td>\n",
       "      <td>Medical Expenses</td>\n",
       "      <td>Approved</td>\n",
       "      <td>1</td>\n",
       "      <td>1</td>\n",
       "      <td>88</td>\n",
       "    </tr>\n",
       "    <tr>\n",
       "      <th>3</th>\n",
       "      <td>1</td>\n",
       "      <td>4</td>\n",
       "      <td>68000.0</td>\n",
       "      <td>part time</td>\n",
       "      <td>Own</td>\n",
       "      <td>8</td>\n",
       "      <td>59</td>\n",
       "      <td>72</td>\n",
       "      <td>15</td>\n",
       "      <td>1694.650794</td>\n",
       "      <td>...</td>\n",
       "      <td>498.983369</td>\n",
       "      <td>856.052390</td>\n",
       "      <td>250.709184</td>\n",
       "      <td>28787.81897</td>\n",
       "      <td>11</td>\n",
       "      <td>Home Improvement</td>\n",
       "      <td>Rejected</td>\n",
       "      <td>0</td>\n",
       "      <td>5</td>\n",
       "      <td>0</td>\n",
       "    </tr>\n",
       "    <tr>\n",
       "      <th>4</th>\n",
       "      <td>1</td>\n",
       "      <td>5</td>\n",
       "      <td>68000.0</td>\n",
       "      <td>part time</td>\n",
       "      <td>Own</td>\n",
       "      <td>8</td>\n",
       "      <td>59</td>\n",
       "      <td>72</td>\n",
       "      <td>15</td>\n",
       "      <td>1694.650794</td>\n",
       "      <td>...</td>\n",
       "      <td>280.300105</td>\n",
       "      <td>864.054442</td>\n",
       "      <td>161.375914</td>\n",
       "      <td>28787.81897</td>\n",
       "      <td>14</td>\n",
       "      <td>Home Improvement</td>\n",
       "      <td>Approved</td>\n",
       "      <td>0</td>\n",
       "      <td>0</td>\n",
       "      <td>0</td>\n",
       "    </tr>\n",
       "  </tbody>\n",
       "</table>\n",
       "<p>5 rows × 23 columns</p>\n",
       "</div>"
      ],
      "text/plain": [
       "   Applicant_ID  Month  Annual_Income Employment_Status House_Status  \\\n",
       "0             1      1        68000.0         part time          Own   \n",
       "1             1      2        68000.0         part time          Own   \n",
       "2             1      3        68000.0         part time          Own   \n",
       "3             1      4        68000.0         part time          Own   \n",
       "4             1      5        68000.0         part time          Own   \n",
       "\n",
       "   Employment_History_Years  Online_Spending_Behavior_Score  \\\n",
       "0                         8                              59   \n",
       "1                         8                              59   \n",
       "2                         8                              59   \n",
       "3                         8                              59   \n",
       "4                         8                              59   \n",
       "\n",
       "   Utility_Bill_Payment_Score  Number_of_Open_Accounts  Monthly_Debt  ...  \\\n",
       "0                          72                       15   1694.650794  ...   \n",
       "1                          72                       15   1694.650794  ...   \n",
       "2                          72                       15   1694.650794  ...   \n",
       "3                          72                       15   1694.650794  ...   \n",
       "4                          72                       15   1694.650794  ...   \n",
       "\n",
       "   Home_Utility_Expense  Shopping_Expense  Environmental_Spending  \\\n",
       "0            334.534946       1675.623182              377.316447   \n",
       "1            600.493615       1937.372496              441.151954   \n",
       "2            404.397072        698.006536               62.320014   \n",
       "3            498.983369        856.052390              250.709184   \n",
       "4            280.300105        864.054442              161.375914   \n",
       "\n",
       "   Loan_Amount_Requested  Loan_Term           Purpose  Approval_Status  \\\n",
       "0            28787.81897         21    Major Purchase         Approved   \n",
       "1            28787.81897         10  Home Improvement         Approved   \n",
       "2            28787.81897         16  Medical Expenses         Approved   \n",
       "3            28787.81897         11  Home Improvement         Rejected   \n",
       "4            28787.81897         14  Home Improvement         Approved   \n",
       "\n",
       "   Defaulted Number_of_Delinquencies Days_Late  \n",
       "0          0                       1         0  \n",
       "1          0                       3         0  \n",
       "2          1                       1        88  \n",
       "3          0                       5         0  \n",
       "4          0                       0         0  \n",
       "\n",
       "[5 rows x 23 columns]"
      ]
     },
     "execution_count": 26,
     "metadata": {},
     "output_type": "execute_result"
    }
   ],
   "source": [
    "df.head()"
   ]
  },
  {
   "cell_type": "code",
   "execution_count": 22,
   "id": "74829fc3",
   "metadata": {},
   "outputs": [
    {
     "name": "stdout",
     "output_type": "stream",
     "text": [
      "58500.0\n",
      "11.0\n"
     ]
    }
   ],
   "source": [
    "print(df[\"Annual_Income\"].median())\n",
    "print(df[\"Employment_History_Years\"].median())\n"
   ]
  },
  {
   "cell_type": "code",
   "execution_count": 32,
   "id": "606c2eed",
   "metadata": {
    "scrolled": true
   },
   "outputs": [
    {
     "data": {
      "text/plain": [
       "<seaborn.axisgrid.FacetGrid at 0x2e0ede279d0>"
      ]
     },
     "execution_count": 32,
     "metadata": {},
     "output_type": "execute_result"
    },
    {
     "data": {
      "image/png": "[encoded data removed]",
      "text/plain": [
       "<Figure size 360x360 with 1 Axes>"
      ]
     },
     "metadata": {
      "needs_background": "light"
     },
     "output_type": "display_data"
    }
   ],
   "source": [
    "sns.displot(df[\"Annual_Income\"])"
   ]
  },
  {
   "cell_type": "code",
   "execution_count": 33,
   "id": "23c148eb",
   "metadata": {},
   "outputs": [
    {
     "data": {
      "text/plain": [
       "<seaborn.axisgrid.FacetGrid at 0x2e0edf30370>"
      ]
     },
     "execution_count": 33,
     "metadata": {},
     "output_type": "execute_result"
    },
    {
     "data": {
      "image/png": "[encoded data removed]",
      "text/plain": [
       "<Figure size 360x360 with 1 Axes>"
      ]
     },
     "metadata": {
      "needs_background": "light"
     },
     "output_type": "display_data"
    }
   ],
   "source": [
    "sns.displot(df[\"Monthly_Debt\"])"
   ]
  }
 ],
 "metadata": {
  "kernelspec": {
   "display_name": "Python 3",
   "language": "python",
   "name": "python3"
  },
  "language_info": {
   "codemirror_mode": {
    "name": "ipython",
    "version": 3
   },
   "file_extension": ".py",
   "mimetype": "text/x-python",
   "name": "python",
   "nbconvert_exporter": "python",
   "pygments_lexer": "ipython3",
   "version": "3.8.8"
  }
 },
 "nbformat": 4,
 "nbformat_minor": 5
}
